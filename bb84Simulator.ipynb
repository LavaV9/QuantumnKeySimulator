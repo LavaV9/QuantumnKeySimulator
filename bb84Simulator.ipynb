{
 "cells": [
  {
   "cell_type": "code",
   "execution_count": 1,
   "metadata": {},
   "outputs": [],
   "source": [
    "# All imports\n",
    "\n",
    "import numpy as np\n",
    "from qiskit import QuantumCircuit, transpile\n",
    "from qiskit_aer import AerSimulator \n",
    "import random"
   ]
  },
  {
   "cell_type": "code",
   "execution_count": 2,
   "metadata": {},
   "outputs": [],
   "source": [
    "def createBB84Circuit(bitString,basisString):\n",
    "    circuit = QuantumCircuit(len(bitString),len(bitString))\n",
    "    for i in range(len(bitString)):\n",
    "        if bitString[i] == '1':\n",
    "            circuit.x(i)\n",
    "        if basisString[i] == '1':\n",
    "            circuit.h(i)\n",
    "        circuit.measure(i,i)\n",
    "    return circuit\n"
   ]
  },
  {
   "cell_type": "code",
   "execution_count": 3,
   "metadata": {},
   "outputs": [],
   "source": [
    "def simulateCircuit(circuit):\n",
    "    simulator = AerSimulator()\n",
    "    optimizedCircuit = transpile(circuit,simulator)\n",
    "    job = simulator.run(optimizedCircuit, shots=100000)\n",
    "    counts = job.result().get_counts()\n",
    "    return counts\n"
   ]
  },
  {
   "cell_type": "code",
   "execution_count": 4,
   "metadata": {},
   "outputs": [
    {
     "name": "stdout",
     "output_type": "stream",
     "text": [
      "Matching basis positions: [0, 1, 2, 3]\n",
      "Matching bits from v: ['1', '1', '0', '1']\n",
      "s's bit string: 1111, Matching s bits: ['1', '1', '1', '1']\n",
      "Secure key generated: 111\n"
     ]
    }
   ],
   "source": [
    "#testing\n",
    "v_bit_string = '1101'\n",
    "v_basis_string = '1010'  \n",
    "s_basis_string = '1010'    \n",
    "\n",
    "v_circuit = createBB84Circuit(v_bit_string, v_basis_string)\n",
    "\n",
    "s_circuit = createBB84Circuit(v_bit_string, s_basis_string)\n",
    "\n",
    "v_counts = simulateCircuit(v_circuit)\n",
    "s_counts = simulateCircuit(s_circuit)\n",
    "\n",
    "matching_indices = [i for i in range(len(v_basis_string)) if v_basis_string[i] == s_basis_string[i]]\n",
    "print(\"Matching basis positions:\", matching_indices)\n",
    "\n",
    "matching_bits = [v_bit_string[i] for i in matching_indices]\n",
    "print(\"Matching bits from v:\", matching_bits)\n",
    "\n",
    "\n",
    "secure_key = []\n",
    "for key, count in s_counts.items():\n",
    "    s_bit_string = key  \n",
    "    matching_s_bits = [s_bit_string[i] for i in matching_indices]\n",
    "    print(f\"s's bit string: {s_bit_string}, Matching s bits: {matching_s_bits}\")\n",
    "\n",
    "    current_secure_key = []\n",
    "    for i, bit in enumerate(matching_bits):\n",
    "        if bit == matching_s_bits[i]:\n",
    "            current_secure_key.append(bit)\n",
    "\n",
    "    if current_secure_key:\n",
    "        secure_key = current_secure_key  \n",
    "        break  \n",
    "\n",
    "if secure_key:\n",
    "    print(\"Secure key generated:\", ''.join(secure_key))\n",
    "else:\n",
    "    print(\"No secure key generated. Possible eavesdropping detected.\")\n",
    "\n"
   ]
  },
  {
   "cell_type": "code",
   "execution_count": null,
   "metadata": {},
   "outputs": [],
   "source": []
  },
  {
   "cell_type": "code",
   "execution_count": null,
   "metadata": {},
   "outputs": [],
   "source": []
  }
 ],
 "metadata": {
  "kernelspec": {
   "display_name": "venv",
   "language": "python",
   "name": "python3"
  },
  "language_info": {
   "codemirror_mode": {
    "name": "ipython",
    "version": 3
   },
   "file_extension": ".py",
   "mimetype": "text/x-python",
   "name": "python",
   "nbconvert_exporter": "python",
   "pygments_lexer": "ipython3",
   "version": "3.11.5"
  }
 },
 "nbformat": 4,
 "nbformat_minor": 2
}
